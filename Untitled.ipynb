{
 "cells": [
  {
   "cell_type": "code",
   "execution_count": 1,
   "metadata": {},
   "outputs": [
    {
     "name": "stdout",
     "output_type": "stream",
     "text": [
      "Collecting scrapy\n",
      "  Downloading https://files.pythonhosted.org/packages/3b/e4/69b87d7827abf03dea2ea984230d50f347b00a7a3897bc93f6ec3dafa494/Scrapy-1.8.0-py2.py3-none-any.whl (238kB)\n",
      "Requirement already satisfied: lxml>=3.5.0 in c:\\users\\sijop\\anaconda3\\lib\\site-packages (from scrapy) (4.3.4)\n",
      "Collecting queuelib>=1.4.2\n",
      "  Downloading https://files.pythonhosted.org/packages/4c/85/ae64e9145f39dd6d14f8af3fa809a270ef3729f3b90b3c0cf5aa242ab0d4/queuelib-1.5.0-py2.py3-none-any.whl\n",
      "Collecting service-identity>=16.0.0\n",
      "  Downloading https://files.pythonhosted.org/packages/e9/7c/2195b890023e098f9618d43ebc337d83c8b38d414326685339eb024db2f6/service_identity-18.1.0-py2.py3-none-any.whl\n",
      "Requirement already satisfied: six>=1.10.0 in c:\\users\\sijop\\anaconda3\\lib\\site-packages (from scrapy) (1.12.0)\n",
      "Collecting cssselect>=0.9.1\n",
      "  Downloading https://files.pythonhosted.org/packages/3b/d4/3b5c17f00cce85b9a1e6f91096e1cc8e8ede2e1be8e96b87ce1ed09e92c5/cssselect-1.1.0-py2.py3-none-any.whl\n",
      "Collecting zope.interface>=4.1.3\n",
      "  Downloading https://files.pythonhosted.org/packages/a8/d2/e2fb1052cdf1c1d05a23c5f7a192a8dc104d5afda0539f86b9839264e1cc/zope.interface-4.6.0-cp37-cp37m-win_amd64.whl (133kB)\n",
      "Collecting PyDispatcher>=2.0.5\n",
      "  Downloading https://files.pythonhosted.org/packages/cd/37/39aca520918ce1935bea9c356bcbb7ed7e52ad4e31bff9b943dfc8e7115b/PyDispatcher-2.0.5.tar.gz\n",
      "Requirement already satisfied: cryptography>=2.0 in c:\\users\\sijop\\anaconda3\\lib\\site-packages (from scrapy) (2.7)\n",
      "Collecting Twisted>=17.9.0; python_version >= \"3.5\"\n",
      "  Downloading https://files.pythonhosted.org/packages/ee/d9/5b79fef4a7d7dc4d526151904eae5dd207f80433ae646a258b32abbe77d4/Twisted-19.7.0-cp37-cp37m-win_amd64.whl (3.1MB)\n",
      "Requirement already satisfied: pyOpenSSL>=16.2.0 in c:\\users\\sijop\\anaconda3\\lib\\site-packages (from scrapy) (19.0.0)\n",
      "Collecting w3lib>=1.17.0\n",
      "  Downloading https://files.pythonhosted.org/packages/6a/45/1ba17c50a0bb16bd950c9c2b92ec60d40c8ebda9f3371ae4230c437120b6/w3lib-1.21.0-py2.py3-none-any.whl\n",
      "Collecting protego>=0.1.15\n",
      "  Downloading https://files.pythonhosted.org/packages/e8/4b/c72e7d801facc2f519824680b65d76373e6bb289df668dbf8758ea21ff10/Protego-0.1.15.tar.gz (3.2MB)\n",
      "Collecting parsel>=1.5.0\n",
      "  Downloading https://files.pythonhosted.org/packages/86/c8/fc5a2f9376066905dfcca334da2a25842aedfda142c0424722e7c497798b/parsel-1.5.2-py2.py3-none-any.whl\n",
      "Requirement already satisfied: attrs>=16.0.0 in c:\\users\\sijop\\anaconda3\\lib\\site-packages (from service-identity>=16.0.0->scrapy) (19.1.0)\n",
      "Requirement already satisfied: pyasn1-modules in c:\\users\\sijop\\anaconda3\\lib\\site-packages (from service-identity>=16.0.0->scrapy) (0.2.7)\n",
      "Requirement already satisfied: pyasn1 in c:\\users\\sijop\\anaconda3\\lib\\site-packages (from service-identity>=16.0.0->scrapy) (0.4.7)\n",
      "Requirement already satisfied: setuptools in c:\\users\\sijop\\anaconda3\\lib\\site-packages (from zope.interface>=4.1.3->scrapy) (41.4.0)\n",
      "Requirement already satisfied: cffi!=1.11.3,>=1.8 in c:\\users\\sijop\\anaconda3\\lib\\site-packages (from cryptography>=2.0->scrapy) (1.12.3)\n",
      "Requirement already satisfied: asn1crypto>=0.21.0 in c:\\users\\sijop\\anaconda3\\lib\\site-packages (from cryptography>=2.0->scrapy) (0.24.0)\n",
      "Collecting Automat>=0.3.0\n",
      "  Downloading https://files.pythonhosted.org/packages/e5/11/756922e977bb296a79ccf38e8d45cafee446733157d59bcd751d3aee57f5/Automat-0.8.0-py2.py3-none-any.whl\n",
      "Collecting constantly>=15.1\n",
      "  Downloading https://files.pythonhosted.org/packages/b9/65/48c1909d0c0aeae6c10213340ce682db01b48ea900a7d9fce7a7910ff318/constantly-15.1.0-py2.py3-none-any.whl\n",
      "Collecting incremental>=16.10.1\n",
      "  Downloading https://files.pythonhosted.org/packages/f5/1d/c98a587dc06e107115cf4a58b49de20b19222c83d75335a192052af4c4b7/incremental-17.5.0-py2.py3-none-any.whl\n",
      "Collecting PyHamcrest>=1.9.0\n",
      "  Downloading https://files.pythonhosted.org/packages/9a/d5/d37fd731b7d0e91afcc84577edeccf4638b4f9b82f5ffe2f8b62e2ddc609/PyHamcrest-1.9.0-py2.py3-none-any.whl (52kB)\n",
      "Collecting hyperlink>=17.1.1\n",
      "  Downloading https://files.pythonhosted.org/packages/7f/91/e916ca10a2de1cb7101a9b24da546fb90ee14629e23160086cf3361c4fb8/hyperlink-19.0.0-py2.py3-none-any.whl\n",
      "Requirement already satisfied: pycparser in c:\\users\\sijop\\anaconda3\\lib\\site-packages (from cffi!=1.11.3,>=1.8->cryptography>=2.0->scrapy) (2.19)\n",
      "Requirement already satisfied: idna>=2.5 in c:\\users\\sijop\\anaconda3\\lib\\site-packages (from hyperlink>=17.1.1->Twisted>=17.9.0; python_version >= \"3.5\"->scrapy) (2.8)\n",
      "Building wheels for collected packages: PyDispatcher, protego\n",
      "  Building wheel for PyDispatcher (setup.py): started\n",
      "  Building wheel for PyDispatcher (setup.py): finished with status 'done'\n",
      "  Created wheel for PyDispatcher: filename=PyDispatcher-2.0.5-cp37-none-any.whl size=12553 sha256=b81c4f91c954be91afa9251e11d65689d37a66d9211ceb3f0fc16f214882bb75\n",
      "  Stored in directory: C:\\Users\\sijop\\AppData\\Local\\pip\\Cache\\wheels\\88\\99\\96\\cfef6665f9cb1522ee6757ae5955feedf2fe25f1737f91fa7f\n",
      "  Building wheel for protego (setup.py): started\n",
      "  Building wheel for protego (setup.py): finished with status 'done'\n",
      "  Created wheel for protego: filename=Protego-0.1.15-cp37-none-any.whl size=7739 sha256=e1ecb7ddaafe0e4ce583952c2a35cd4ff234ccd05a4dbc33e503a140155826e6\n",
      "  Stored in directory: C:\\Users\\sijop\\AppData\\Local\\pip\\Cache\\wheels\\72\\d1\\f2\\4e0a2e6d0179c201952b1b3e086a736548605386193cd312f6\n",
      "Successfully built PyDispatcher protego\n",
      "Installing collected packages: queuelib, service-identity, cssselect, zope.interface, PyDispatcher, Automat, constantly, incremental, PyHamcrest, hyperlink, Twisted, w3lib, protego, parsel, scrapy\n",
      "Successfully installed Automat-0.8.0 PyDispatcher-2.0.5 PyHamcrest-1.9.0 Twisted-19.7.0 constantly-15.1.0 cssselect-1.1.0 hyperlink-19.0.0 incremental-17.5.0 parsel-1.5.2 protego-0.1.15 queuelib-1.5.0 scrapy-1.8.0 service-identity-18.1.0 w3lib-1.21.0 zope.interface-4.6.0\n"
     ]
    },
    {
     "name": "stderr",
     "output_type": "stream",
     "text": [
      "WARNING: Retrying (Retry(total=4, connect=None, read=None, redirect=None, status=None)) after connection broken by 'ConnectTimeoutError(<pip._vendor.urllib3.connection.VerifiedHTTPSConnection object at 0x000001FF28FD8860>, 'Connection to pypi.org timed out. (connect timeout=15)')': /simple/scrapy/\n"
     ]
    }
   ],
   "source": [
    "!pip install scrapy"
   ]
  },
  {
   "cell_type": "code",
   "execution_count": null,
   "metadata": {},
   "outputs": [],
   "source": []
  }
 ],
 "metadata": {
  "kernelspec": {
   "display_name": "Python 3",
   "language": "python",
   "name": "python3"
  },
  "language_info": {
   "codemirror_mode": {
    "name": "ipython",
    "version": 3
   },
   "file_extension": ".py",
   "mimetype": "text/x-python",
   "name": "python",
   "nbconvert_exporter": "python",
   "pygments_lexer": "ipython3",
   "version": "3.7.3"
  }
 },
 "nbformat": 4,
 "nbformat_minor": 2
}
